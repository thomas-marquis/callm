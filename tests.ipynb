{
 "cells": [
  {
   "cell_type": "code",
   "execution_count": 1,
   "id": "e598b629-bc6b-4663-a476-c729a9f83ef7",
   "metadata": {},
   "outputs": [
    {
     "ename": "NameError",
     "evalue": "name 'base64' is not defined",
     "output_type": "error",
     "traceback": [
      "\u001b[0;31m---------------------------------------------------------------------------\u001b[0m",
      "\u001b[0;31mNameError\u001b[0m                                 Traceback (most recent call last)",
      "Cell \u001b[0;32mIn[1], line 9\u001b[0m\n\u001b[1;32m      5\u001b[0m \u001b[38;5;28;01mwith\u001b[39;00m blobfile\u001b[38;5;241m.\u001b[39mBlobFile(blobpath, \u001b[38;5;124m\"\u001b[39m\u001b[38;5;124mrb\u001b[39m\u001b[38;5;124m\"\u001b[39m) \u001b[38;5;28;01mas\u001b[39;00m f:\n\u001b[1;32m      6\u001b[0m     contents \u001b[38;5;241m=\u001b[39m f\u001b[38;5;241m.\u001b[39mread()\n\u001b[1;32m      8\u001b[0m res \u001b[38;5;241m=\u001b[39m {\n\u001b[0;32m----> 9\u001b[0m     \u001b[43mbase64\u001b[49m\u001b[38;5;241m.\u001b[39mb64decode(token): \u001b[38;5;28mint\u001b[39m(rank)\n\u001b[1;32m     10\u001b[0m     \u001b[38;5;28;01mfor\u001b[39;00m token, rank \u001b[38;5;129;01min\u001b[39;00m (line\u001b[38;5;241m.\u001b[39msplit() \u001b[38;5;28;01mfor\u001b[39;00m line \u001b[38;5;129;01min\u001b[39;00m contents\u001b[38;5;241m.\u001b[39msplitlines() \u001b[38;5;28;01mif\u001b[39;00m line)\n\u001b[1;32m     11\u001b[0m }\n\u001b[1;32m     12\u001b[0m res\n",
      "\u001b[0;31mNameError\u001b[0m: name 'base64' is not defined"
     ]
    }
   ],
   "source": [
    "import blobfile\n",
    "\n",
    "\n",
    "blobpath = \"tokenizer.model\"\n",
    "with blobfile.BlobFile(blobpath, \"rb\") as f:\n",
    "    contents = f.read()\n",
    "\n",
    "res = {\n",
    "    base64.b64decode(token): int(rank)\n",
    "    for token, rank in (line.split() for line in contents.splitlines() if line)\n",
    "}\n",
    "res"
   ]
  },
  {
   "cell_type": "code",
   "execution_count": 2,
   "id": "7a815c47-53ba-453b-8893-708daff99064",
   "metadata": {},
   "outputs": [],
   "source": [
    "import tiktoken\n",
    "from tiktoken.load import load_tiktoken_bpe\n",
    "import json\n",
    "import base64"
   ]
  },
  {
   "cell_type": "code",
   "execution_count": 2,
   "id": "9ca25eca-2d22-4b59-a3a6-c9edb02b549c",
   "metadata": {},
   "outputs": [],
   "source": [
    "with open(\"tokenizer.json\", \"r\") as f:\n",
    "    c = json.load(f)"
   ]
  },
  {
   "cell_type": "code",
   "execution_count": 3,
   "id": "cc132a36-16eb-42c2-bb6e-fca83d43b228",
   "metadata": {},
   "outputs": [],
   "source": [
    "model: dict[bytes, int] = load_tiktoken_bpe(\"tokenizer.model\")"
   ]
  },
  {
   "cell_type": "code",
   "execution_count": 4,
   "id": "6ac77e5d-f3e7-4044-9ae9-62fc2a268d4b",
   "metadata": {},
   "outputs": [],
   "source": [
    "decoder = {v: k for k, v in model.items()}"
   ]
  },
  {
   "cell_type": "code",
   "execution_count": 9,
   "id": "cabdc701-cdd6-48fd-ac25-3bf3802351d7",
   "metadata": {},
   "outputs": [
    {
     "data": {
      "text/plain": [
       "(b'\\xe2\\x80', b'\\x99')"
      ]
     },
     "execution_count": 9,
     "metadata": {},
     "output_type": "execute_result"
    }
   ],
   "source": [
    "decoder[378], decoder[247]"
   ]
  },
  {
   "cell_type": "code",
   "execution_count": 8,
   "id": "1cf9927b-7234-4249-961b-366adf2a9dd8",
   "metadata": {},
   "outputs": [
    {
     "data": {
      "text/plain": [
       "b'\\xe2\\x80\\x99'"
      ]
     },
     "execution_count": 8,
     "metadata": {},
     "output_type": "execute_result"
    }
   ],
   "source": [
    "\"’\".encode()"
   ]
  },
  {
   "cell_type": "code",
   "execution_count": 4,
   "id": "bcba24bc-797f-4e80-8174-0da7b651c9ca",
   "metadata": {},
   "outputs": [],
   "source": [
    "vocab: dict[str, int] = c[\"model\"][\"vocab\"]"
   ]
  },
  {
   "cell_type": "markdown",
   "id": "ee4fe313-c0eb-4807-9d48-6a9623ba57c9",
   "metadata": {},
   "source": [
    "288\tU+0120\tC4 A0\tĠ\tLatin Capital Letter G With Dot Above\n",
    "32\tU+0020\t20\t\t    Space"
   ]
  },
  {
   "cell_type": "code",
   "execution_count": 6,
   "id": "93f51e1d-55e0-4150-a789-6e9367c6f4fc",
   "metadata": {},
   "outputs": [
    {
     "data": {
      "text/plain": [
       "9189"
      ]
     },
     "execution_count": 6,
     "metadata": {},
     "output_type": "execute_result"
    }
   ],
   "source": [
    "vocab[\"Ġvous\"]"
   ]
  },
  {
   "cell_type": "code",
   "execution_count": null,
   "id": "569a3b78-c093-4870-b359-86b10213e342",
   "metadata": {},
   "outputs": [],
   "source": []
  },
  {
   "cell_type": "code",
   "execution_count": 58,
   "id": "61d8720f-148e-484c-ada4-d8cd24ba3bc7",
   "metadata": {},
   "outputs": [
    {
     "name": "stdout",
     "output_type": "stream",
     "text": [
      "b'\\xc2\\xa1'\n"
     ]
    },
    {
     "data": {
      "text/plain": [
       "'Â'"
      ]
     },
     "execution_count": 58,
     "metadata": {},
     "output_type": "execute_result"
    }
   ],
   "source": [
    "x = '¡'\n",
    "#x = b'\\x01'\n",
    "print(x.encode(\"utf-8\"))\n",
    "#x.decode(\"latin1\")\n",
    "\n",
    "b'\\xc2'.decode(\"latin1\")"
   ]
  },
  {
   "cell_type": "code",
   "execution_count": 7,
   "id": "a420352c-49ed-4b85-80fa-b6887c762915",
   "metadata": {},
   "outputs": [
    {
     "name": "stdout",
     "output_type": "stream",
     "text": [
      "'IFNpbXBsZQ==' => ' Simple', 9170\n",
      "'UHJpbnQ=' => 'Print', 9171\n",
      "'IHN1cnJvdW5k' => ' surround', 9172\n",
      "'Tk8=' => 'NO', 9173\n",
      "'44CCCg==' => '。\n",
      "', 9174\n",
      "'ICAgICAgICANCg==' => '        \n",
      "', 9175\n",
      "'IE1hbnk=' => ' Many', 9176\n",
      "'ICJf' => ' \"_', 9177\n",
      "'IHdlZWtlbmQ=' => ' weekend', 9178\n",
      "'IHNvbWV3' => ' somew', 9179\n",
      "'LnBhcmFtcw==' => '.params', 9180\n",
      "'c21hbGw=' => 'small', 9181\n",
      "'QVRFRA==' => 'ATED', 9182\n",
      "'IHBsdWdpbg==' => ' plugin', 9183\n",
      "'ZmllbGRz' => 'fields', 9184\n",
      "'IEluaXRpYWxpemU=' => ' Initialize', 9185\n",
      "'b29u' => 'oon', 9186\n",
      "'YXRpbGU=' => 'atile', 9187\n",
      "'eWU=' => 'ye', 9188\n",
      "'IHZvdXM=' => ' vous', 9189\n",
      "'TEFH' => 'LAG', 9190\n",
      "'IG9sZGVy' => ' older', 9191\n",
      "'IGdhbQ==' => ' gam', 9192\n",
      "'IGV4dHJlbWVseQ==' => ' extremely', 9193\n",
      "'IGhldA==' => ' het', 9194\n",
      "'ZW51bQ==' => 'enum', 9195\n",
      "'IFNFVA==' => ' SET', 9196\n",
      "'eGZm' => 'xff', 9197\n",
      "'IHRpbWVy' => ' timer', 9198\n",
      "'L2luZGV4' => '/index', 9199\n",
      "'IGNyaXRpY2Fs' => ' critical', 9200\n"
     ]
    }
   ],
   "source": [
    "with open(\"tokenizer.model\") as f:\n",
    "    for i, line in enumerate(f.readlines()):\n",
    "        if i < 9170 or i > 9200:\n",
    "            continue\n",
    "        token, rank = line.split()\n",
    "        b = base64.b64decode(token)\n",
    "        #print(line)\n",
    "        print(f\"'{token}' => '{b.decode()}', {rank}\")"
   ]
  },
  {
   "cell_type": "code",
   "execution_count": 62,
   "id": "ddaa2b2c-5b8e-46d5-badb-9eb4d76d25ab",
   "metadata": {},
   "outputs": [
    {
     "name": "stdout",
     "output_type": "stream",
     "text": [
      "128000 128000\n",
      "b'!' b''\n",
      "b'\"' b''\n",
      "b'#' b''\n",
      "b'$' b''\n",
      "b'%' b''\n",
      "b'&' b''\n",
      "b\"'\" b''\n",
      "b'(' b''\n",
      "b')' b''\n",
      "b'*' b''\n"
     ]
    },
    {
     "ename": "Error",
     "evalue": "Invalid base64-encoded string: number of data characters (1) cannot be 1 more than a multiple of 4",
     "output_type": "error",
     "traceback": [
      "\u001b[0;31m---------------------------------------------------------------------------\u001b[0m",
      "\u001b[0;31mError\u001b[0m                                     Traceback (most recent call last)",
      "Cell \u001b[0;32mIn[62], line 3\u001b[0m\n\u001b[1;32m      1\u001b[0m \u001b[38;5;28mprint\u001b[39m(\u001b[38;5;28mlen\u001b[39m(model), \u001b[38;5;28mlen\u001b[39m(vocab))\n\u001b[1;32m      2\u001b[0m \u001b[38;5;28;01mfor\u001b[39;00m i, (m, v) \u001b[38;5;129;01min\u001b[39;00m \u001b[38;5;28menumerate\u001b[39m(\u001b[38;5;28mzip\u001b[39m(model\u001b[38;5;241m.\u001b[39mitems(), vocab\u001b[38;5;241m.\u001b[39mitems())):\n\u001b[0;32m----> 3\u001b[0m     \u001b[38;5;28mprint\u001b[39m(m[\u001b[38;5;241m0\u001b[39m], \u001b[43mbase64\u001b[49m\u001b[38;5;241;43m.\u001b[39;49m\u001b[43mb64decode\u001b[49m\u001b[43m(\u001b[49m\u001b[43mv\u001b[49m\u001b[43m[\u001b[49m\u001b[38;5;241;43m0\u001b[39;49m\u001b[43m]\u001b[49m\u001b[43m)\u001b[49m \u001b[38;5;28;01mif\u001b[39;00m v[\u001b[38;5;241m0\u001b[39m] \u001b[38;5;28;01melse\u001b[39;00m v[\u001b[38;5;241m0\u001b[39m])\n\u001b[1;32m      4\u001b[0m     \u001b[38;5;28;01mcontinue\u001b[39;00m\n\u001b[1;32m      5\u001b[0m     \u001b[38;5;28;01mtry\u001b[39;00m:\n",
      "File \u001b[0;32m~/.pyenv/versions/3.12.0/lib/python3.12/base64.py:88\u001b[0m, in \u001b[0;36mb64decode\u001b[0;34m(s, altchars, validate)\u001b[0m\n\u001b[1;32m     86\u001b[0m     \u001b[38;5;28;01massert\u001b[39;00m \u001b[38;5;28mlen\u001b[39m(altchars) \u001b[38;5;241m==\u001b[39m \u001b[38;5;241m2\u001b[39m, \u001b[38;5;28mrepr\u001b[39m(altchars)\n\u001b[1;32m     87\u001b[0m     s \u001b[38;5;241m=\u001b[39m s\u001b[38;5;241m.\u001b[39mtranslate(\u001b[38;5;28mbytes\u001b[39m\u001b[38;5;241m.\u001b[39mmaketrans(altchars, \u001b[38;5;124mb\u001b[39m\u001b[38;5;124m'\u001b[39m\u001b[38;5;124m+/\u001b[39m\u001b[38;5;124m'\u001b[39m))\n\u001b[0;32m---> 88\u001b[0m \u001b[38;5;28;01mreturn\u001b[39;00m \u001b[43mbinascii\u001b[49m\u001b[38;5;241;43m.\u001b[39;49m\u001b[43ma2b_base64\u001b[49m\u001b[43m(\u001b[49m\u001b[43ms\u001b[49m\u001b[43m,\u001b[49m\u001b[43m \u001b[49m\u001b[43mstrict_mode\u001b[49m\u001b[38;5;241;43m=\u001b[39;49m\u001b[43mvalidate\u001b[49m\u001b[43m)\u001b[49m\n",
      "\u001b[0;31mError\u001b[0m: Invalid base64-encoded string: number of data characters (1) cannot be 1 more than a multiple of 4"
     ]
    }
   ],
   "source": [
    "print(len(model), len(vocab))\n",
    "for i, (m, v) in enumerate(zip(model.items(), vocab.items())):\n",
    "    print(m[0], base64.b64decode(v[0]) if v[0] else v[0])\n",
    "    continue\n",
    "    try:\n",
    "        assert m[0].decode(\"latin1\") == v[0], (i, m, m[0].decode(\"latin1\"), v)\n",
    "    except Exception as err:\n",
    "        print(\"ERR\", err, i, m, m[0].decode(\"latin1\"), v)\n",
    "        break"
   ]
  }
 ],
 "metadata": {
  "kernelspec": {
   "display_name": "Python 3 (ipykernel)",
   "language": "python",
   "name": "python3"
  },
  "language_info": {
   "codemirror_mode": {
    "name": "ipython",
    "version": 3
   },
   "file_extension": ".py",
   "mimetype": "text/x-python",
   "name": "python",
   "nbconvert_exporter": "python",
   "pygments_lexer": "ipython3",
   "version": "3.12.0"
  }
 },
 "nbformat": 4,
 "nbformat_minor": 5
}
